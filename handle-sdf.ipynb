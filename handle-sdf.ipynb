{
 "cells": [
  {
   "cell_type": "markdown",
   "id": "77af88dd",
   "metadata": {},
   "source": [
    "## Using Spark Cluster with shared data in Docker\n",
    "\n",
    "### Handle Spark DataFrames"
   ]
  },
  {
   "cell_type": "markdown",
   "id": "d237f076",
   "metadata": {},
   "source": [
    "#### Install Java\n",
    "\n",
    "Visite [https://www.java.com/](https://www.java.com/) to download and install Java."
   ]
  },
  {
   "cell_type": "markdown",
   "id": "16d33ffb",
   "metadata": {},
   "source": [
    "#### Create a Python Virtual Environment\n",
    "\n",
    "Select the Python interpreter to use for the notebook. Choose Python Environment from the drop-down menu and Create a Python Virtual Environment."
   ]
  },
  {
   "cell_type": "code",
   "execution_count": null,
   "id": "5969aeba",
   "metadata": {},
   "outputs": [],
   "source": [
    "!pip install pyspark==3.5.5 pandas pyarrow"
   ]
  },
  {
   "cell_type": "markdown",
   "id": "8fb38c7c",
   "metadata": {},
   "source": [
    "#### Download csv file to local directory"
   ]
  },
  {
   "cell_type": "code",
   "execution_count": null,
   "id": "add2661a",
   "metadata": {},
   "outputs": [],
   "source": [
    "import urllib.request\n",
    "import zipfile\n",
    "from os import remove\n",
    "\n",
    "url = 'https://www.kaggle.com/api/v1/datasets/download/chaitanyahivlekar/large-movie-dataset'\n",
    "urllib.request.urlretrieve(url,'movies.zip')\n",
    "\n",
    "with zipfile.ZipFile('movies.zip', 'r') as zip_ref:\n",
    "    zip_ref.extractall('./')\n",
    "\n",
    "remove('movies.zip')"
   ]
  },
  {
   "cell_type": "markdown",
   "id": "0f39e4d4",
   "metadata": {},
   "source": [
    "#### Connect to Spark and create Spark Session"
   ]
  },
  {
   "cell_type": "code",
   "execution_count": null,
   "id": "b10aa2b6",
   "metadata": {},
   "outputs": [],
   "source": [
    "from pyspark.sql import SparkSession\n",
    "\n",
    "spark = SparkSession.builder.appName(\"MyApp\") \\\n",
    "    .master(\"local[*]\") \\\n",
    "    .config(\"spark.driver.memory\", \"4g\") \\\n",
    "    .config(\"spark.executor.memory\", \"4g\") \\\n",
    "    .getOrCreate()  \n"
   ]
  },
  {
   "cell_type": "markdown",
   "id": "a2c28c74",
   "metadata": {},
   "source": [
    "#### Reading data\n",
    "##### Create a spark data frame from csv file\n",
    "\n",
    "To create a spark data frame from a csv file, we can use the `read.csv` function. Using `inferSchema=True` allow spark infer correct type for each field. However, it can be slow."
   ]
  },
  {
   "cell_type": "code",
   "execution_count": null,
   "id": "3180e648",
   "metadata": {},
   "outputs": [],
   "source": [
    "sdf = spark.read.csv(\"movies_dataset.csv\", header=True, inferSchema=True)"
   ]
  },
  {
   "cell_type": "markdown",
   "id": "e8370c24",
   "metadata": {},
   "source": [
    "#### Viewing Data"
   ]
  },
  {
   "cell_type": "markdown",
   "id": "973a796e",
   "metadata": {},
   "source": [
    "To see the schema, use `.printSchema()` method."
   ]
  },
  {
   "cell_type": "code",
   "execution_count": null,
   "id": "b3af9122",
   "metadata": {},
   "outputs": [],
   "source": [
    "sdf.printSchema()"
   ]
  },
  {
   "cell_type": "markdown",
   "id": "66b8a02c",
   "metadata": {},
   "source": [
    "Let's show first rows of spark data frame with method `.show()`"
   ]
  },
  {
   "cell_type": "code",
   "execution_count": null,
   "id": "5949ebba",
   "metadata": {},
   "outputs": [],
   "source": [
    "sdf.show(1)"
   ]
  },
  {
   "cell_type": "code",
   "execution_count": null,
   "id": "92778e2b",
   "metadata": {},
   "outputs": [],
   "source": [
    "sdf.show(truncate=False)"
   ]
  },
  {
   "cell_type": "markdown",
   "id": "a66415c3",
   "metadata": {},
   "source": [
    "Display 5 first rows in list"
   ]
  },
  {
   "cell_type": "code",
   "execution_count": null,
   "id": "439d486c",
   "metadata": {},
   "outputs": [],
   "source": [
    "sdf.take(5)"
   ]
  },
  {
   "cell_type": "markdown",
   "id": "9bdfb473",
   "metadata": {},
   "source": [
    "Count total of rows."
   ]
  },
  {
   "cell_type": "code",
   "execution_count": null,
   "id": "7ca88944",
   "metadata": {},
   "outputs": [],
   "source": [
    "sdf.count()"
   ]
  },
  {
   "cell_type": "markdown",
   "id": "870be472",
   "metadata": {},
   "source": [
    "View columns"
   ]
  },
  {
   "cell_type": "code",
   "execution_count": null,
   "id": "672af38e",
   "metadata": {},
   "outputs": [],
   "source": [
    "sdf.columns"
   ]
  },
  {
   "cell_type": "markdown",
   "id": "10cb7284",
   "metadata": {},
   "source": [
    "Show a summary of spark dataframe"
   ]
  },
  {
   "cell_type": "code",
   "execution_count": null,
   "id": "c294d16a",
   "metadata": {},
   "outputs": [],
   "source": [
    "sdf.describe().show()"
   ]
  },
  {
   "cell_type": "markdown",
   "id": "dad26ce2",
   "metadata": {},
   "source": [
    "#### View data with selected columns"
   ]
  },
  {
   "cell_type": "code",
   "execution_count": null,
   "id": "53acc1cc",
   "metadata": {},
   "outputs": [],
   "source": [
    "sdf.select(\"Movie_Name\").show(5)"
   ]
  },
  {
   "cell_type": "code",
   "execution_count": null,
   "id": "ad3ec6c4",
   "metadata": {},
   "outputs": [],
   "source": [
    "sdf.select(\"Movie_Name\", \"Rating\").show(truncate=False)"
   ]
  },
  {
   "cell_type": "markdown",
   "id": "7ab0b39d",
   "metadata": {},
   "source": [
    "#### Filtering data\n",
    "\n",
    "To filter data, we can use the `filter` method from spark data frame.\n"
   ]
  },
  {
   "cell_type": "code",
   "execution_count": null,
   "id": "15920678",
   "metadata": {},
   "outputs": [],
   "source": [
    "from pyspark.sql.functions import col\n",
    "\n",
    "sdf.filter(col(\"Rating\") >= 5 ).show()"
   ]
  },
  {
   "cell_type": "markdown",
   "id": "06dffccc",
   "metadata": {},
   "source": [
    "Here, we are using filter conditions `&` and `|` to filter the data."
   ]
  },
  {
   "cell_type": "code",
   "execution_count": null,
   "id": "484e2164",
   "metadata": {},
   "outputs": [],
   "source": [
    "\n",
    "\n",
    "sdf.filter( (col(\"Rating\") >= 5) & col('Genre').contains(\"Comedy\") ).show()\n"
   ]
  },
  {
   "cell_type": "code",
   "execution_count": null,
   "id": "927643a1",
   "metadata": {},
   "outputs": [],
   "source": [
    "sdf.filter( (col('Genre').contains(\"Action\")) | col('Genre').contains(\"Comedy\") ).show()"
   ]
  },
  {
   "cell_type": "code",
   "execution_count": null,
   "id": "5c3269d6",
   "metadata": {},
   "outputs": [],
   "source": [
    "sdf_top = sdf.filter( (col(\"Rating\") >= 5) & col('Genre').contains(\"Comedy\") )\n",
    "sdf_top.show()\n"
   ]
  },
  {
   "cell_type": "markdown",
   "id": "15f501b8",
   "metadata": {},
   "source": [
    "#### Transform data\n",
    "\n",
    "Transforming columns"
   ]
  },
  {
   "cell_type": "code",
   "execution_count": null,
   "id": "2aac0ae0",
   "metadata": {},
   "outputs": [],
   "source": [
    "sdf.withColumn(\"Rating\", sdf[\"Rating\"] / 5 ).show(5)"
   ]
  },
  {
   "cell_type": "code",
   "execution_count": null,
   "id": "43e18fd9",
   "metadata": {},
   "outputs": [],
   "source": [
    "sdf.withColumnRenamed(\"Movie_Name\", \"Title\").show(5)"
   ]
  },
  {
   "cell_type": "markdown",
   "id": "184fa93c",
   "metadata": {},
   "source": [
    "#### Apply user defined functions"
   ]
  },
  {
   "cell_type": "code",
   "execution_count": null,
   "id": "fa48393d",
   "metadata": {},
   "outputs": [],
   "source": [
    "import pandas as pd\n",
    "from math import log\n",
    "from pyspark.sql.functions import pandas_udf\n",
    "\n",
    "@pandas_udf('float')\n",
    "def pandas_log(series: pd.Series) -> pd.Series:\n",
    "    return series.apply(log)\n",
    "\n",
    "sdf.withColumn(\"log_rating\", pandas_log(sdf[\"Rating\"])).show(5)\n"
   ]
  },
  {
   "cell_type": "code",
   "execution_count": null,
   "id": "f20ccd95",
   "metadata": {},
   "outputs": [],
   "source": [
    "from pyspark.sql.types import ArrayType, StringType\n",
    "\n",
    "@pandas_udf(ArrayType(StringType()))\n",
    "def pandas_split(series: pd.Series) -> pd.Series:\n",
    "    return series.apply(lambda x: x.split(\"|\") if isinstance(x, str) else None)\n",
    "\n",
    "sdf.withColumn(\"First_Genre\", pandas_split(sdf[\"Genre\"])).show(5)\n"
   ]
  },
  {
   "cell_type": "markdown",
   "id": "eca1ca8f",
   "metadata": {},
   "source": [
    "#### Grouping data\n",
    "\n",
    "To transform the data, we can use many of the functions available in the Spark DataFrame API. For example, we can use the `groupBy` function to group the data by the `Movie_Name` column and then use the `agg` function to apply the `count` function to each group.\n"
   ]
  },
  {
   "cell_type": "code",
   "execution_count": null,
   "id": "a328b309",
   "metadata": {},
   "outputs": [],
   "source": [
    "from pyspark.sql import functions as sf\n",
    "\n",
    "sdf_top.groupBy(\"Movie_name\").agg(\n",
    "    sf.count(\"*\").alias(\"total_ratings\"),\n",
    ").show()"
   ]
  },
  {
   "cell_type": "markdown",
   "id": "15fa2161",
   "metadata": {},
   "source": [
    "Here, we filter dataset to only `Genre` that contains `Comedy`, group by `Movie_Name` and `Year`, and summarize the total ratings and average ratings."
   ]
  },
  {
   "cell_type": "code",
   "execution_count": null,
   "id": "36de8456",
   "metadata": {},
   "outputs": [],
   "source": [
    "sdf.filter( sf.col('Genre').contains(\"Comedy\") ). \\\n",
    "    groupBy(\"Movie_name\").agg(\n",
    "        sf.count(\"*\").alias(\"total_ratings\"),\n",
    "        sf.avg(\"Rating\").alias(\"avg_rating\")\n",
    "    ).show()"
   ]
  },
  {
   "cell_type": "markdown",
   "id": "f15440a4",
   "metadata": {},
   "source": [
    "Add `sum` to summarize the `Ratting` column."
   ]
  },
  {
   "cell_type": "code",
   "execution_count": null,
   "id": "72de19bd",
   "metadata": {},
   "outputs": [],
   "source": [
    "sdf.filter( sf.col('Genre').contains(\"Comedy\") ). \\\n",
    "    groupBy(\"Movie_name\").agg(\n",
    "        sf.count(\"*\").alias(\"total_ratings\"),\n",
    "        sf.avg(\"Rating\").alias(\"avg_rating\"),\n",
    "        sf.sum(\"Rating\").alias(\"sum_rating\")\n",
    "    ). \\\n",
    "   orderBy(\"total_ratings\", ascending=False).show()"
   ]
  },
  {
   "cell_type": "markdown",
   "id": "2860e4a4",
   "metadata": {},
   "source": [
    "#### Collect data from Spark to Pandas dataframe\n",
    "\n",
    "After filter, groupBy, aggregate data, and order, we can collect data from Spark using `.toPandas()` method."
   ]
  },
  {
   "cell_type": "code",
   "execution_count": null,
   "id": "762aa6ba",
   "metadata": {},
   "outputs": [],
   "source": [
    "from pyspark.sql import functions as sf\n",
    "\n",
    "df = sdf.filter( sf.col('Genre').contains(\"Comedy\") ). \\\n",
    "    groupBy(\"Movie_name\").agg(\n",
    "        sf.count(\"*\").alias(\"total_ratings\"),\n",
    "        sf.avg(\"Rating\").alias(\"avg_rating\"),\n",
    "        sf.sum(\"Rating\").alias(\"sum_rating\")\n",
    "    ). \\\n",
    "    filter( sf.col(\"avg_rating\") > 4). \\\n",
    "    orderBy(\"total_ratings\", ascending=False). \\\n",
    "    toPandas()\n",
    "\n",
    "df"
   ]
  },
  {
   "cell_type": "markdown",
   "id": "0ada1db4",
   "metadata": {},
   "source": [
    "Collect as list"
   ]
  },
  {
   "cell_type": "code",
   "execution_count": null,
   "id": "adfc16d8",
   "metadata": {},
   "outputs": [],
   "source": [
    "data_collected = sdf.filter( sf.col('Genre').contains(\"Comedy\") ). \\\n",
    "    groupBy(\"Movie_name\").agg(\n",
    "        sf.count(\"*\").alias(\"total_ratings\"),\n",
    "        sf.avg(\"Rating\").alias(\"avg_rating\"),\n",
    "        sf.sum(\"Rating\").alias(\"sum_rating\")\n",
    "    ). \\\n",
    "    filter( sf.col(\"avg_rating\") > 4). \\\n",
    "    orderBy(\"total_ratings\", ascending=False). \\\n",
    "    collect()\n",
    "data_collected"
   ]
  },
  {
   "cell_type": "code",
   "execution_count": null,
   "id": "fc6c2a51",
   "metadata": {},
   "outputs": [],
   "source": [
    "def plus_mean(pandas_df):\n",
    "    return pandas_df.assign(Rating=pandas_df.Rating - pandas_df.Rating.mean())\n",
    "\n",
    "result_df = sdf.groupby('User_Id').applyInPandas(plus_mean, schema=sdf.schema)\n",
    "result_df.show()"
   ]
  },
  {
   "cell_type": "code",
   "execution_count": null,
   "id": "d9cbc01b",
   "metadata": {},
   "outputs": [],
   "source": [
    "spark.stop()"
   ]
  }
 ],
 "metadata": {
  "kernelspec": {
   "display_name": ".venv",
   "language": "python",
   "name": "python3"
  },
  "language_info": {
   "codemirror_mode": {
    "name": "ipython",
    "version": 3
   },
   "file_extension": ".py",
   "mimetype": "text/x-python",
   "name": "python",
   "nbconvert_exporter": "python",
   "pygments_lexer": "ipython3",
   "version": "3.9.6"
  }
 },
 "nbformat": 4,
 "nbformat_minor": 5
}
